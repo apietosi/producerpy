{
 "cells": [
  {
   "cell_type": "code",
   "execution_count": null,
   "metadata": {},
   "outputs": [],
   "source": [
    "import gizeh\n",
    "import moviepy.editor as mpy"
   ]
  },
  {
   "cell_type": "code",
   "execution_count": null,
   "metadata": {},
   "outputs": [],
   "source": [
    "def make_frame(t):\n",
    "    surface = gizeh.Surface(128,128) # width, height\n",
    "    radius = (1+ (t*(2-t))**2 )/6 # the radius varies over time\n",
    "    circle = gizeh.circle(radius, xy = (64,64), fill=(1,0,0))\n",
    "    circle.draw(surface)\n",
    "    return surface.get_npimage() # returns a 8-bit RGB array\n",
    "\n",
    "clip = mpy.VideoClip(make_frame, duration=2) # 2 seconds\n",
    "clip.write_mp4(\"circle.mp4\",fps=15)"
   ]
  },
  {
   "cell_type": "code",
   "execution_count": null,
   "metadata": {},
   "outputs": [],
   "source": []
  },
  {
   "cell_type": "code",
   "execution_count": 1,
   "metadata": {},
   "outputs": [
    {
     "name": "stdout",
     "output_type": "stream",
     "text": [
      "pygame 1.9.5\n",
      "Hello from the pygame community. https://www.pygame.org/contribute.html\n"
     ]
    }
   ],
   "source": [
    "import cv2\n",
    "import numpy as np\n",
    "import os\n",
    "import ffpyplayer\n",
    "import subprocess\n",
    "import soundfile as sf\n",
    "import librosa\n",
    "import moviepy.editor as mp\n",
    "# ffpyplayer.player import MediaPlayer"
   ]
  },
  {
   "cell_type": "code",
   "execution_count": 2,
   "metadata": {},
   "outputs": [
    {
     "name": "stdout",
     "output_type": "stream",
     "text": [
      "27.428571428571427\n"
     ]
    }
   ],
   "source": [
    "audio_file = '/Users/walkerrdavis/Desktop/eeg_12.wav'\n",
    "x, fs = sf.read(audio_file)\n",
    "print(librosa.core.get_duration(filename=audio_file))"
   ]
  },
  {
   "cell_type": "code",
   "execution_count": 4,
   "metadata": {},
   "outputs": [],
   "source": [
    "audio_file = '/Users/walkerrdavis/Desktop/eeg_12.wav'\n",
    "audio_dur = librosa.core.get_duration(filename=audio_file)\n",
    "\n",
    "\n",
    "image_folder= '/Users/walkerrdavis/GitHub/producerpy/TWOMBLY_01/'\n",
    "video_file = 'video.mp4'\n",
    "\n",
    "\n",
    "files = os.listdir(image_folder)\n",
    "if '.DS_Store' in files:\n",
    "    files.remove('.DS_Store')\n",
    "    \n",
    "fps = len(files)/audio_dur\n",
    "\n",
    "frame_array = []\n",
    "for i in range(len(files)):\n",
    "    filename = os.path.join(image_folder + files[i])\n",
    "    #reading each files\n",
    "    img = cv2.imread(filename)\n",
    "    height, width, layers = img.shape\n",
    "    size = (width,height)\n",
    "    #inserting the frames into an image array\n",
    "    frame_array.append(img)\n",
    "    \n",
    "out = cv2.VideoWriter(video_file,cv2.VideoWriter_fourcc(*'DIVX'), fps, size)\n",
    "\n",
    "\n",
    "for i in range(len(frame_array)):\n",
    "    out.write(frame_array[i])\n",
    "out.release()"
   ]
  },
  {
   "cell_type": "code",
   "execution_count": null,
   "metadata": {},
   "outputs": [],
   "source": [
    "audio = mp.AudioFileClip(audio_file)\n",
    "video1 = mp.VideoFileClip(video_file)\n",
    "video1 = video1.set_audio(audio)\n",
    "video1.write_videofile(\"output.mp4\")"
   ]
  },
  {
   "cell_type": "code",
   "execution_count": null,
   "metadata": {},
   "outputs": [],
   "source": []
  },
  {
   "cell_type": "code",
   "execution_count": null,
   "metadata": {},
   "outputs": [],
   "source": []
  },
  {
   "cell_type": "code",
   "execution_count": null,
   "metadata": {},
   "outputs": [],
   "source": []
  },
  {
   "cell_type": "code",
   "execution_count": null,
   "metadata": {},
   "outputs": [],
   "source": [
    "cmd = 'ffmpeg -y -i ' + audio_file + '  -r 30 -i ' + video_file\n",
    "cmd += '  -filter:a aresample=async=1 -c:a wav -c:v copy av.mp4'\n",
    "subprocess.call(cmd, shell=True)                                     "
   ]
  },
  {
   "cell_type": "code",
   "execution_count": null,
   "metadata": {},
   "outputs": [],
   "source": []
  },
  {
   "cell_type": "code",
   "execution_count": null,
   "metadata": {},
   "outputs": [],
   "source": []
  },
  {
   "cell_type": "code",
   "execution_count": null,
   "metadata": {},
   "outputs": [],
   "source": []
  },
  {
   "cell_type": "code",
   "execution_count": null,
   "metadata": {},
   "outputs": [],
   "source": [
    "\n",
    "video_path = \"../L1/images/Godwin.mp4\"\n",
    "def PlayVideo(video_path):\n",
    "    video=cv2.VideoCapture(video_path)\n",
    "    player = MediaPlayer(video_path)\n",
    "    while True:\n",
    "        grabbed, frame=video.read()\n",
    "        audio_frame, val = player.get_frame()\n",
    "        if not grabbed:\n",
    "            print(\"End of video\")\n",
    "            break\n",
    "        if cv2.waitKey(28) & 0xFF == ord(\"q\"):\n",
    "            break\n",
    "        cv2.imshow(\"Video\", frame)\n",
    "        if val != 'eof' and audio_frame is not None:\n",
    "            #audio\n",
    "            img, t = audio_frame\n",
    "    video.release()\n",
    "    cv2.destroyAllWindows()\n",
    "PlayVideo(video_path)"
   ]
  }
 ],
 "metadata": {
  "kernelspec": {
   "display_name": "Python 3",
   "language": "python",
   "name": "python3"
  },
  "language_info": {
   "codemirror_mode": {
    "name": "ipython",
    "version": 3
   },
   "file_extension": ".py",
   "mimetype": "text/x-python",
   "name": "python",
   "nbconvert_exporter": "python",
   "pygments_lexer": "ipython3",
   "version": "3.6.8"
  }
 },
 "nbformat": 4,
 "nbformat_minor": 2
}
